{
 "cells": [
  {
   "cell_type": "code",
<<<<<<< HEAD
   "execution_count": null,
=======
   "execution_count": 1,
>>>>>>> 372392ca7de76374d845349f0dae9742b8dc8128
   "metadata": {},
   "outputs": [],
   "source": [
    "import pandas\n",
    "import scipy"
   ]
  },
  {
   "cell_type": "code",
<<<<<<< HEAD
   "execution_count": null,
   "metadata": {},
   "outputs": [],
=======
   "execution_count": 2,
   "metadata": {},
   "outputs": [
    {
     "name": "stdout",
     "output_type": "stream",
     "text": [
      "hi\n"
     ]
    }
   ],
>>>>>>> 372392ca7de76374d845349f0dae9742b8dc8128
   "source": [
    "%%python \n",
    "print('hi')"
   ]
  },
  {
   "cell_type": "code",
<<<<<<< HEAD
   "execution_count": null,
   "metadata": {},
   "outputs": [],
   "source": [
    "ls -la"
   ]
  },
  {
   "cell_type": "code",
   "execution_count": null,
   "metadata": {},
   "outputs": [],
   "source": []
=======
   "execution_count": 3,
   "metadata": {},
   "outputs": [
    {
     "name": "stdout",
     "output_type": "stream",
     "text": [
      "total 20\r\n",
      "drwsrwsr-x 1 jovyan users 4096 Dec 21 14:10 \u001b[0m\u001b[01;34m.\u001b[0m/\r\n",
      "drwsrwsr-x 1 jovyan users 4096 Dec 21 14:06 \u001b[01;34m..\u001b[0m/\r\n",
      "-rw-r--r-- 1 jovyan users 1001 Dec 21 14:10 BasicDS.ipynb\r\n",
      "drwxr-sr-x 2 jovyan users 4096 Dec 21 14:09 \u001b[01;34m.ipynb_checkpoints\u001b[0m/\r\n"
     ]
    }
   ],
   "source": [
    "ls -la"
   ]
>>>>>>> 372392ca7de76374d845349f0dae9742b8dc8128
  }
 ],
 "metadata": {
  "kernelspec": {
   "display_name": "Python 3",
   "language": "python",
   "name": "python3"
  },
  "language_info": {
   "codemirror_mode": {
    "name": "ipython",
    "version": 3
   },
   "file_extension": ".py",
   "mimetype": "text/x-python",
   "name": "python",
   "nbconvert_exporter": "python",
   "pygments_lexer": "ipython3",
   "version": "3.6.3"
  }
 },
 "nbformat": 4,
 "nbformat_minor": 2
}
