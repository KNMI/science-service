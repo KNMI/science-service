{
 "cells": [
  {
   "cell_type": "code",
   "execution_count": 1,
   "metadata": {},
   "outputs": [],
   "source": [
    "import pandas\n",
    "import scipy"
   ]
  },
  {
   "cell_type": "code",
   "execution_count": 2,
   "metadata": {},
   "outputs": [
    {
     "name": "stdout",
     "output_type": "stream",
     "text": [
      "hi\n"
     ]
    }
   ],
   "source": [
    "%%python \n",
    "print('hi')"
   ]
  },
  {
   "cell_type": "code",
   "execution_count": 3,
   "metadata": {},
   "outputs": [
    {
     "name": "stdout",
     "output_type": "stream",
     "text": [
      "total 20\r\n",
      "drwsrwsr-x 1 jovyan users 4096 Dec 21 14:10 \u001b[0m\u001b[01;34m.\u001b[0m/\r\n",
      "drwsrwsr-x 1 jovyan users 4096 Dec 21 14:06 \u001b[01;34m..\u001b[0m/\r\n",
      "-rw-r--r-- 1 jovyan users 1001 Dec 21 14:10 BasicDS.ipynb\r\n",
      "drwxr-sr-x 2 jovyan users 4096 Dec 21 14:09 \u001b[01;34m.ipynb_checkpoints\u001b[0m/\r\n"
     ]
    }
   ],
   "source": [
    "ls -la"
   ]
  },
  {
   "cell_type": "code",
   "execution_count": 1,
   "metadata": {},
   "outputs": [
    {
     "data": {
      "text/plain": [
       "'/home/jovyan/science-service'"
      ]
     },
     "execution_count": 1,
     "metadata": {},
     "output_type": "execute_result"
    }
   ],
   "source": [
    "pwd"
   ]
  },
  {
   "cell_type": "code",
   "execution_count": 3,
   "metadata": {},
   "outputs": [],
   "source": [
    "import xarray as xr"
   ]
  },
  {
   "cell_type": "code",
   "execution_count": 5,
   "metadata": {},
   "outputs": [],
   "source": [
    "ds = xr.open_dataset(\"http://opendap.knmi.nl/knmi/thredds/dodsC/e-obs_0.44rotated/tg_0.44deg_rot_v16.0.nc\")"
   ]
  },
  {
   "cell_type": "code",
   "execution_count": 6,
   "metadata": {},
   "outputs": [
    {
     "name": "stdout",
     "output_type": "stream",
     "text": [
      "<xarray.Dataset>\n",
      "Dimensions:           (time: 24715, x: 137, y: 108)\n",
      "Coordinates:\n",
      "  * x                 (x) float32 -35.25 -34.81 -34.37 -33.93 -33.49 -33.05 ...\n",
      "  * y                 (y) float32 -23.65 -23.21 -22.77 -22.33 -21.89 -21.45 ...\n",
      "  * time              (time) datetime64[ns] 1950-01-01 1950-01-02 1950-01-03 ...\n",
      "    Actual_longitude  (y, x) float32 ...\n",
      "    Actual_latitude   (y, x) float32 ...\n",
      "Data variables:\n",
      "    projection        float32 ...\n",
      "    tg                (time, y, x) float64 ...\n",
      "Attributes:\n",
      "    Ensembles_ECAD:             16.0\n",
      "    Conventions:                CF-1.4\n",
      "    References:                 http://www.ecad.eu\\nhttp://www.ecad.eu/downlo...\n",
      "    grid_north_pole_latitude:   39.25\n",
      "    grid_north_pole_longitude:  -162.0\n",
      "    history:                    Thu Sep 28 13:55:40 2017: ncks -a --fix_rec_d...\n",
      "    NCO:                        \"4.6.2\"\n",
      "    nco_openmp_thread_number:   1\n"
     ]
    }
   ],
   "source": [
    "print(ds)"
   ]
  },
  {
   "cell_type": "code",
   "execution_count": null,
   "metadata": {},
   "outputs": [],
   "source": []
  }
 ],
 "metadata": {
  "kernelspec": {
   "display_name": "Python 3",
   "language": "python",
   "name": "python3"
  },
  "language_info": {
   "codemirror_mode": {
    "name": "ipython",
    "version": 3
   },
   "file_extension": ".py",
   "mimetype": "text/x-python",
   "name": "python",
   "nbconvert_exporter": "python",
   "pygments_lexer": "ipython3",
   "version": "3.6.3"
  }
 },
 "nbformat": 4,
 "nbformat_minor": 2
}
