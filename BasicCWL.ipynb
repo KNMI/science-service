{
 "cells": [
  {
   "cell_type": "code",
   "execution_count": 2,
   "metadata": {},
   "outputs": [
    {
     "name": "stdout",
     "output_type": "stream",
     "text": [
      "Help on package dispel4py:\n",
      "\n",
      "NAME\n",
      "    dispel4py - The core packages for Dispel4Py.\n",
      "\n",
      "PACKAGE CONTENTS\n",
      "    __main__\n",
      "    base\n",
      "    core\n",
      "    examples (package)\n",
      "    new (package)\n",
      "    provenance\n",
      "    storm (package)\n",
      "    utils\n",
      "    visualisation\n",
      "    workflow_graph\n",
      "\n",
      "FILE\n",
      "    /opt/conda/lib/python3.6/site-packages/dispel4py/__init__.py\n",
      "\n",
      "\n"
     ]
    }
   ],
   "source": [
    "import dispel4py\n",
    "\n",
    "help(dispel4py)"
   ]
  },
  {
   "cell_type": "code",
   "execution_count": 1,
   "metadata": {},
   "outputs": [
    {
     "name": "stdout",
     "output_type": "stream",
     "text": [
      "Help on package dispel4py:\n",
      "\n",
      "NAME\n",
      "    dispel4py - The core packages for Dispel4Py.\n",
      "\n",
      "PACKAGE CONTENTS\n",
      "    __main__\n",
      "    base\n",
      "    core\n",
      "    examples (package)\n",
      "    new (package)\n",
      "    provenance\n",
      "    storm (package)\n",
      "    utils\n",
      "    visualisation\n",
      "    workflow_graph\n",
      "\n",
      "FILE\n",
      "    /opt/conda/lib/python3.6/site-packages/dispel4py/__init__.py\n",
      "\n",
      "\n"
     ]
    }
   ],
   "source": [
    "import dispel4py\n",
    "\n",
    "help(dispel4py)"
   ]
  },
  {
   "cell_type": "code",
   "execution_count": 1,
   "metadata": {},
   "outputs": [
    {
     "name": "stdout",
     "output_type": "stream",
     "text": [
      "jovyan\n",
      "{\n",
      "    \"download\": [\n",
      "        {\n",
      "            \"location\": \"file:///home/jovyan/science-service/download.epos.dsuA7dsB\",\n",
      "            \"basename\": \"download.epos.dsuA7dsB\",\n",
      "            \"class\": \"File\",\n",
      "            \"checksum\": \"sha1$49d26284d36a8e5f8513a6b5f795bfa8c178d254\",\n",
      "            \"size\": 1335,\n",
      "            \"path\": \"/home/jovyan/science-service/download.epos.dsuA7dsB\"\n",
      "        },\n",
      "        {\n",
      "            \"location\": \"file:///home/jovyan/science-service/download.epos.E9yYpSoo\",\n",
      "            \"basename\": \"download.epos.E9yYpSoo\",\n",
      "            \"class\": \"File\",\n",
      "            \"checksum\": \"sha1$63af8c1a7f8481cf66a9d90b8885727c1b47b5f9\",\n",
      "            \"size\": 362496,\n",
      "            \"path\": \"/home/jovyan/science-service/download.epos.E9yYpSoo\"\n",
      "        },\n",
      "        {\n",
      "            \"location\": \"file:///home/jovyan/science-service/download.epos.G25fWTHC\",\n",
      "            \"basename\": \"download.epos.G25fWTHC\",\n",
      "            \"class\": \"File\",\n",
      "            \"checksum\": \"sha1$dac5bdd4e49f966fbdb5568b2b21854089fc25d8\",\n",
      "            \"size\": 700416,\n",
      "            \"path\": \"/home/jovyan/science-service/download.epos.G25fWTHC\"\n",
      "        }\n",
      "    ]\n",
      "}\n"
     ]
    },
    {
     "name": "stderr",
     "output_type": "stream",
     "text": [
      "/opt/conda/bin/cwl-runner 1.0.20171221100033\n",
      "Resolved './workflows/epos_accept_url_array_scatter.cwl' to 'file:///home/jovyan/science-service/workflows/epos_accept_url_array_scatter.cwl'\n",
      "[workflow epos_accept_url_array_scatter.cwl] start\n",
      "[step process] start\n",
      "[workflow process] start\n",
      "[step step0] start\n",
      "[job step0] /tmp/tmpfrv6wu5q$ mktemp \\\n",
      "    download.epos.XXXXXXXX\n",
      "download.epos.dsuA7dsB\n",
      "[job step0] completed success\n",
      "[step step0] completed success\n",
      "[step step1] start\n",
      "[job step1] /tmp/tmp05f2x9g7$ curl \\\n",
      "    'http://www.geomag.bgs.ac.uk/web_service/GMModels/wmm/2015?latitude=10&longitude=20&altitude=1&year=2020.0&format=xml' > /tmp/tmp05f2x9g7/download.epos.dsuA7dsB\n",
      "  % Total    % Received % Xferd  Average Speed   Time    Time     Time  Current\n",
      "                                 Dload  Upload   Total   Spent    Left  Speed\n",
      "\r",
      "  0     0    0     0    0     0      0      0 --:--:-- --:--:-- --:--:--     0\r",
      "100  1335    0  1335    0     0  10685      0 --:--:-- --:--:-- --:--:-- 10766\n",
      "[job step1] completed success\n",
      "[step step1] completed success\n",
      "[workflow process] completed success\n",
      "[step process] start\n",
      "[workflow process_2] start\n",
      "[step step0_2] start\n",
      "[job step0_2] /tmp/tmp_h7062oy$ mktemp \\\n",
      "    download.epos.XXXXXXXX\n",
      "download.epos.E9yYpSoo\n",
      "[job step0_2] completed success\n",
      "[step step0_2] completed success\n",
      "[step step1_2] start\n",
      "[job step1_2] /tmp/tmp4doe6zqw$ curl \\\n",
      "    'http://www.orfeus-eu.org/fdsnws/dataselect/1/query?starttime=2014-01-01T00:20:00&endtime=2014-01-01T00:50:00&net=NL&cha=BHZ' > /tmp/tmp4doe6zqw/download.epos.E9yYpSoo\n",
      "  % Total    % Received % Xferd  Average Speed   Time    Time     Time  Current\n",
      "                                 Dload  Upload   Total   Spent    Left  Speed\n",
      "\r",
      "  0     0    0     0    0     0      0      0 --:--:-- --:--:-- --:--:--     0\r",
      "100  354k    0  354k    0     0  2399k      0 --:--:-- --:--:-- --:--:-- 2424k\n",
      "[job step1_2] completed success\n",
      "[step step1_2] completed success\n",
      "[workflow process_2] completed success\n",
      "[step process] start\n",
      "[workflow process_3] start\n",
      "[step step0_3] start\n",
      "[job step0_3] /tmp/tmp0_flsgkx$ mktemp \\\n",
      "    download.epos.XXXXXXXX\n",
      "download.epos.G25fWTHC\n",
      "[job step0_3] completed success\n",
      "[step step0_3] completed success\n",
      "[step step1_3] start\n",
      "[job step1_3] /tmp/tmp4cnj5ga5$ curl \\\n",
      "    'http://webservices.ingv.it/fdsnws/dataselect/1/query?starttime=2014-01-01T00:20:00&endtime=2014-01-01T00:50:00&net=MN&cha=BHZ' > /tmp/tmp4cnj5ga5/download.epos.G25fWTHC\n",
      "  % Total    % Received % Xferd  Average Speed   Time    Time     Time  Current\n",
      "                                 Dload  Upload   Total   Spent    Left  Speed\n",
      "\r",
      "  0     0    0     0    0     0      0      0 --:--:-- --:--:-- --:--:--     0\r",
      "100  1648    0  1648    0     0   2740      0 --:--:-- --:--:-- --:--:--  2742\r",
      "100  684k    0  684k    0     0   561k      0 --:--:--  0:00:01 --:--:--  562k\n",
      "[job step1_3] completed success\n",
      "[step step1_3] completed success\n",
      "[workflow process_3] completed success\n",
      "[step process] completed success\n",
      "[workflow epos_accept_url_array_scatter.cwl] completed success\n",
      "Final process status is success\n"
     ]
    }
   ],
   "source": [
    "%%bash\n",
    "\n",
    "whoami\n",
    "\n",
    "cwl-runner ./workflows/epos_accept_url_array_scatter.cwl ./inputs/epos_inputs.yml"
   ]
  },
  {
   "cell_type": "code",
   "execution_count": null,
   "metadata": {},
   "outputs": [],
   "source": []
  }
 ],
 "metadata": {
  "kernelspec": {
   "display_name": "Python 3",
   "language": "python",
   "name": "python3"
  },
  "language_info": {
   "codemirror_mode": {
    "name": "ipython",
    "version": 3
   },
   "file_extension": ".py",
   "mimetype": "text/x-python",
   "name": "python",
   "nbconvert_exporter": "python",
   "pygments_lexer": "ipython3",
   "version": "3.6.3"
  }
 },
 "nbformat": 4,
 "nbformat_minor": 2
}
